{
 "cells": [
  {
   "cell_type": "markdown",
   "metadata": {},
   "source": [
    "# <center> SAE Velos de Nantes - Partie R2.08</center>\n",
    "\n",
    "<center> BASOL Nathan - LEDERREY Lussandre - MACCREZ Allan </center>"
   ]
  },
  {
   "cell_type": "markdown",
   "metadata": {},
   "source": [
    "A partir de la base de données MySQL sur les vélos de Nantes, nous allons valoriser des données en produisant différents indicateurs graphiques. Chaque indicateur répondera à une question precise.\n",
    "\n"
   ]
  },
  {
   "cell_type": "markdown",
   "metadata": {},
   "source": [
    "> Importation des packages et modules nécessaires"
   ]
  },
  {
   "cell_type": "code",
   "execution_count": 1,
   "metadata": {},
   "outputs": [],
   "source": [
    "# importation des packages\n",
    "import numpy as np\n",
    "import pandas as pd\n",
    "\n",
    "# importation des modules\n",
    "import matplotlib.pyplot as plt\n",
    "import scipy.stats as sps\n",
    "import mysql.connector\n",
    "\n",
    "# warning\n",
    "import warnings\n",
    "warnings.filterwarnings('ignore')"
   ]
  },
  {
   "cell_type": "markdown",
   "metadata": {},
   "source": [
    "> Connexion à la base de données et affichage des tables"
   ]
  },
  {
   "cell_type": "code",
   "execution_count": 2,
   "metadata": {},
   "outputs": [
    {
     "name": "stdout",
     "output_type": "stream",
     "text": [
      "('comptage',)\n",
      "('compteur',)\n",
      "('dateinfo',)\n",
      "('quartier',)\n"
     ]
    }
   ],
   "source": [
    "# connexion à la base de données\n",
    "cnx = mysql.connector.connect(user='root', password='basolympe2004', host='127.0.0.1', database='bd_velos_nantes', charset='utf8')\n",
    "\n",
    "# création du curseur\n",
    "mycursor = cnx.cursor() \n",
    "\n",
    "# affichage des tables\n",
    "mycursor.execute(\"SHOW TABLES\")\n",
    "\n",
    "# récupérer toutes les lignes du résultat de la requête\n",
    "myresult = mycursor.fetchall() \n",
    "\n",
    "# afficher les tables\n",
    "for x in myresult: \n",
    "    print(x)  "
   ]
  },
  {
   "cell_type": "markdown",
   "metadata": {},
   "source": [
    "> Question 1 : Les pistes cyclable de nantes ont elles eu une augmentation d'utilisation sur la période 2020 - 2022 ?"
   ]
  },
  {
   "cell_type": "code",
   "execution_count": 3,
   "metadata": {},
   "outputs": [
    {
     "data": {
      "text/html": [
       "<div>\n",
       "<style scoped>\n",
       "    .dataframe tbody tr th:only-of-type {\n",
       "        vertical-align: middle;\n",
       "    }\n",
       "\n",
       "    .dataframe tbody tr th {\n",
       "        vertical-align: top;\n",
       "    }\n",
       "\n",
       "    .dataframe thead th {\n",
       "        text-align: right;\n",
       "    }\n",
       "</style>\n",
       "<table border=\"1\" class=\"dataframe\">\n",
       "  <thead>\n",
       "    <tr style=\"text-align: right;\">\n",
       "      <th></th>\n",
       "      <th>annee</th>\n",
       "      <th>nbVelo</th>\n",
       "    </tr>\n",
       "  </thead>\n",
       "  <tbody>\n",
       "    <tr>\n",
       "      <th>0</th>\n",
       "      <td>2020</td>\n",
       "      <td>9250011.0</td>\n",
       "    </tr>\n",
       "    <tr>\n",
       "      <th>1</th>\n",
       "      <td>2021</td>\n",
       "      <td>11592739.0</td>\n",
       "    </tr>\n",
       "    <tr>\n",
       "      <th>2</th>\n",
       "      <td>2022</td>\n",
       "      <td>13069986.0</td>\n",
       "    </tr>\n",
       "  </tbody>\n",
       "</table>\n",
       "</div>"
      ],
      "text/plain": [
       "   annee      nbVelo\n",
       "0   2020   9250011.0\n",
       "1   2021  11592739.0\n",
       "2   2022  13069986.0"
      ]
     },
     "execution_count": 3,
     "metadata": {},
     "output_type": "execute_result"
    }
   ],
   "source": [
    "# requête 1 : nombre de vélos par année\n",
    "requete1 = \"\"\"\n",
    "SELECT YEAR(laDate) AS annee, SUM(h00+h01+h02+h03+h04+h05+h06+h07+h08+h09+h10+h11+h12+h13+h14+h15+h16+h17+h18+h19+h20+h21+h22+h23) AS nbVelo\n",
    "FROM DateInfo, Comptage\n",
    "WHERE laDate = dateComptage\n",
    "AND laDate BETWEEN '2020-01-01' AND '2022-12-31'\n",
    "GROUP BY annee;\n",
    "\"\"\"\n",
    "\n",
    "# Exécuter la requête\n",
    "df1 = pd.read_sql(requete1, cnx)\n",
    "\n",
    "# Afficher le résultat\n",
    "df1.head()"
   ]
  },
  {
   "cell_type": "markdown",
   "metadata": {},
   "source": [
    "> Affichage du résultat de la requête 1"
   ]
  },
  {
   "cell_type": "code",
   "execution_count": 4,
   "metadata": {},
   "outputs": [
    {
     "data": {
      "image/png": "[encoded data removed]",
      "text/plain": [
       "<Figure size 1000x500 with 1 Axes>"
      ]
     },
     "metadata": {},
     "output_type": "display_data"
    }
   ],
   "source": [
    "# Convertir les valeurs en millions\n",
    "df1['nbVelo'] = df1['nbVelo'] / 1000000\n",
    "\n",
    "# Créer le diagramme en barres\n",
    "ax = df1.plot.bar(x='annee', y='nbVelo', rot=0, title=\"Evolution du nombre total de vélos comptés par an dans la ville de Nantes entre 2020 et 2022\", figsize=(10, 5))\n",
    "\n",
    "# Changer l'échelle de l'axe y en millions\n",
    "ax.set_yticklabels(['{:.1f}M'.format(x) for x in ax.get_yticks()])\n",
    "\n",
    "# Afficher le diagramme\n",
    "plt.show()"
   ]
  },
  {
   "cell_type": "markdown",
   "metadata": {},
   "source": [
    "> Réponse à la question 1"
   ]
  },
  {
   "cell_type": "markdown",
   "metadata": {},
   "source": [
    "\n",
    "<span style=\"color:yellow;\">Il y a eu une évolution croissante de l'utilisation des pistes cyclables de la ville de Nantes entre 2020 et 2022. On compte environ 2 millions de passages en plus par années. Ce pic est certainement lié à la crise sanitaire et aux confinements qui ont eu lieux en 2020. Forcément, l'utilisation des vélos a augmenté les années suivantes.</span>"
   ]
  },
  {
   "cell_type": "markdown",
   "metadata": {},
   "source": [
    "> Question 2 : Quels sont les quartiers dans lesquels il y a eu le plus de présence d'anomalies fortes ?"
   ]
  },
  {
   "cell_type": "code",
   "execution_count": 5,
   "metadata": {},
   "outputs": [
    {
     "name": "stdout",
     "output_type": "stream",
     "text": [
      "Nombre de présences d'anomalies fortes par quartier :\n"
     ]
    },
    {
     "data": {
      "text/html": [
       "<div>\n",
       "<style scoped>\n",
       "    .dataframe tbody tr th:only-of-type {\n",
       "        vertical-align: middle;\n",
       "    }\n",
       "\n",
       "    .dataframe tbody tr th {\n",
       "        vertical-align: top;\n",
       "    }\n",
       "\n",
       "    .dataframe thead th {\n",
       "        text-align: right;\n",
       "    }\n",
       "</style>\n",
       "<table border=\"1\" class=\"dataframe\">\n",
       "  <thead>\n",
       "    <tr style=\"text-align: right;\">\n",
       "      <th></th>\n",
       "      <th>nomQuartier</th>\n",
       "      <th>nbPresencesAnomalies</th>\n",
       "    </tr>\n",
       "  </thead>\n",
       "  <tbody>\n",
       "    <tr>\n",
       "      <th>0</th>\n",
       "      <td>Malakoff - Saint-Donatien</td>\n",
       "      <td>794</td>\n",
       "    </tr>\n",
       "    <tr>\n",
       "      <th>1</th>\n",
       "      <td>Centre Ville</td>\n",
       "      <td>496</td>\n",
       "    </tr>\n",
       "    <tr>\n",
       "      <th>2</th>\n",
       "      <td>Dervalli�res - Zola</td>\n",
       "      <td>117</td>\n",
       "    </tr>\n",
       "    <tr>\n",
       "      <th>3</th>\n",
       "      <td>Ile de Nantes</td>\n",
       "      <td>103</td>\n",
       "    </tr>\n",
       "    <tr>\n",
       "      <th>4</th>\n",
       "      <td>Pont Rousseau</td>\n",
       "      <td>74</td>\n",
       "    </tr>\n",
       "  </tbody>\n",
       "</table>\n",
       "</div>"
      ],
      "text/plain": [
       "                 nomQuartier  nbPresencesAnomalies\n",
       "0  Malakoff - Saint-Donatien                   794\n",
       "1               Centre Ville                   496\n",
       "2        Dervalli�res - Zola                   117\n",
       "3              Ile de Nantes                   103\n",
       "4              Pont Rousseau                    74"
      ]
     },
     "execution_count": 5,
     "metadata": {},
     "output_type": "execute_result"
    }
   ],
   "source": [
    "# requête 2 : nombre présence anomalie forte par quartier en 2021\n",
    "requete2 = \"\"\"\n",
    "SELECT nomQuartier, COUNT(presenceAnomalie) as nbPresencesAnomalies\n",
    "FROM Comptage, Compteur, Quartier\n",
    "WHERE Comptage.leCompteur = Compteur.idCompteur\n",
    "AND Compteur.leQuartier = Quartier.idQuartier\n",
    "AND UPPER(presenceAnomalie) = 'FORTE'\n",
    "GROUP BY nomQuartier\n",
    "ORDER BY nbPresencesAnomalies DESC;\n",
    "\"\"\"\n",
    "\n",
    "# Exécuter la requête\n",
    "df2 = pd.read_sql(requete2, cnx)\n",
    "\n",
    "# Afficher le résultat\n",
    "print(\"Nombre de présences d'anomalies fortes par quartier :\")\n",
    "df2.head()\n"
   ]
  },
  {
   "cell_type": "markdown",
   "metadata": {},
   "source": [
    "> Affichage du résultat de la requête 2"
   ]
  },
  {
   "cell_type": "code",
   "execution_count": 6,
   "metadata": {},
   "outputs": [
    {
     "data": {
      "image/png": "[encoded data removed]",
      "text/plain": [
       "<Figure size 1000x500 with 1 Axes>"
      ]
     },
     "metadata": {},
     "output_type": "display_data"
    }
   ],
   "source": [
    "# diagramme en barres\n",
    "df2.plot.bar(x='nomQuartier', y='nbPresencesAnomalies', rot=0, title=\"Nombre de présences d'anomalies fortes par quartier en 2021\", figsize=(10,5))\n",
    "\n",
    "# Récupérer l'objet Axes\n",
    "ax = plt.gca()\n",
    "\n",
    "# Pivoter les textes sur l'axe des abscisses à 45 degrés\n",
    "ax.set_xticklabels(ax.get_xticklabels(), rotation=45, ha='right')\n",
    "\n",
    "# Afficher le graphique\n",
    "plt.show()"
   ]
  },
  {
   "cell_type": "markdown",
   "metadata": {},
   "source": [
    "> Réponse à la question 2"
   ]
  },
  {
   "cell_type": "markdown",
   "metadata": {},
   "source": [
    "\n",
    "<span style=\"color:yellow;\">On peut voir que les quartiers où il y a eu le plus d'anomalies fortes sont les quartiers de malakoff et du centre ville. On pourrait donc se dire que ces quartiers là possèdent des compteurs déféctueux. Cependant, il faut prendre en compte le fait que tout les quartiers de Nantes ne sont pas autant fréquentés que les autres. Il faudrait donc faire une analyse plus poussé en se demandant si certains quartiers semblent avoir des compteurs défectueux par rapport à la moyenne globale.</span>"
   ]
  },
  {
   "cell_type": "markdown",
   "metadata": {},
   "source": [
    "> Question 3 : Est ce que certains quartiers ont des compteurs qui sembles déféctueux par rapport à la moyenne ?"
   ]
  },
  {
   "cell_type": "code",
   "execution_count": 7,
   "metadata": {},
   "outputs": [
    {
     "name": "stdout",
     "output_type": "stream",
     "text": [
      "Nombre moyen d'anomalies fortes par quartier : \n"
     ]
    },
    {
     "data": {
      "text/html": [
       "<div>\n",
       "<style scoped>\n",
       "    .dataframe tbody tr th:only-of-type {\n",
       "        vertical-align: middle;\n",
       "    }\n",
       "\n",
       "    .dataframe tbody tr th {\n",
       "        vertical-align: top;\n",
       "    }\n",
       "\n",
       "    .dataframe thead th {\n",
       "        text-align: right;\n",
       "    }\n",
       "</style>\n",
       "<table border=\"1\" class=\"dataframe\">\n",
       "  <thead>\n",
       "    <tr style=\"text-align: right;\">\n",
       "      <th></th>\n",
       "      <th>nbAnomaliesFortesMoyenneParQuartier</th>\n",
       "    </tr>\n",
       "  </thead>\n",
       "  <tbody>\n",
       "    <tr>\n",
       "      <th>0</th>\n",
       "      <td>29.5172</td>\n",
       "    </tr>\n",
       "  </tbody>\n",
       "</table>\n",
       "</div>"
      ],
      "text/plain": [
       "   nbAnomaliesFortesMoyenneParQuartier\n",
       "0                              29.5172"
      ]
     },
     "execution_count": 7,
     "metadata": {},
     "output_type": "execute_result"
    }
   ],
   "source": [
    "# requête 3a  : nombre moyen d'anomalies fortes par quartier\n",
    "requete3a = \"\"\"\n",
    "SELECT(SELECT COUNT(presenceAnomalie) AS nbAnomaliesFortes\n",
    "       FROM Comptage\n",
    "       WHERE presenceAnomalie = 'FORTE') /\n",
    "      (SELECT COUNT(idCompteur) AS nbCompteurs\n",
    "       FROM Compteur) AS nbAnomaliesFortesMoyenneParQuartier;\n",
    "\"\"\"\n",
    "\n",
    "# Exécuter la requête\n",
    "df3a = pd.read_sql(requete3a, cnx)\n",
    "\n",
    "# Afficher le résultat\n",
    "print(\"Nombre moyen d'anomalies fortes par quartier : \")\n",
    "df3a.head()"
   ]
  },
  {
   "cell_type": "code",
   "execution_count": 8,
   "metadata": {},
   "outputs": [
    {
     "name": "stdout",
     "output_type": "stream",
     "text": [
      "Quartiers avec un nombre d'anomalies fortes par compteurs supérieur à la moyenne :\n"
     ]
    },
    {
     "data": {
      "text/html": [
       "<div>\n",
       "<style scoped>\n",
       "    .dataframe tbody tr th:only-of-type {\n",
       "        vertical-align: middle;\n",
       "    }\n",
       "\n",
       "    .dataframe tbody tr th {\n",
       "        vertical-align: top;\n",
       "    }\n",
       "\n",
       "    .dataframe thead th {\n",
       "        text-align: right;\n",
       "    }\n",
       "</style>\n",
       "<table border=\"1\" class=\"dataframe\">\n",
       "  <thead>\n",
       "    <tr style=\"text-align: right;\">\n",
       "      <th></th>\n",
       "      <th>nomQuartier</th>\n",
       "      <th>nbPresencesAnomalies</th>\n",
       "      <th>nbCompteurs</th>\n",
       "      <th>nbAnoParCpt</th>\n",
       "    </tr>\n",
       "  </thead>\n",
       "  <tbody>\n",
       "    <tr>\n",
       "      <th>0</th>\n",
       "      <td>Dervalli�res - Zola</td>\n",
       "      <td>117</td>\n",
       "      <td>1</td>\n",
       "      <td>117.0000</td>\n",
       "    </tr>\n",
       "    <tr>\n",
       "      <th>1</th>\n",
       "      <td>Malakoff - Saint-Donatien</td>\n",
       "      <td>794</td>\n",
       "      <td>7</td>\n",
       "      <td>113.4286</td>\n",
       "    </tr>\n",
       "    <tr>\n",
       "      <th>2</th>\n",
       "      <td>Pont Rousseau</td>\n",
       "      <td>74</td>\n",
       "      <td>2</td>\n",
       "      <td>37.0000</td>\n",
       "    </tr>\n",
       "  </tbody>\n",
       "</table>\n",
       "</div>"
      ],
      "text/plain": [
       "                 nomQuartier  nbPresencesAnomalies  nbCompteurs  nbAnoParCpt\n",
       "0        Dervalli�res - Zola                   117            1     117.0000\n",
       "1  Malakoff - Saint-Donatien                   794            7     113.4286\n",
       "2              Pont Rousseau                    74            2      37.0000"
      ]
     },
     "execution_count": 8,
     "metadata": {},
     "output_type": "execute_result"
    }
   ],
   "source": [
    "# requête 3b : quartier avec nombre d'anomalies fortes supérieur à la moyenne\n",
    "requete3b = \"\"\"\n",
    "SELECT nomQuartier, COUNT(presenceAnomalie) as nbPresencesAnomalies, COUNT(DISTINCT idCompteur) AS nbCompteurs, COUNT(presenceAnomalie) / COUNT(DISTINCT idCompteur) as nbAnoParCpt\n",
    "FROM Comptage, Compteur, Quartier\n",
    "WHERE Comptage.leCompteur = Compteur.idCompteur\n",
    "AND Compteur.leQuartier = Quartier.idQuartier\n",
    "AND presenceAnomalie = 'FORTE'\n",
    "GROUP BY nomQuartier\n",
    "HAVING COUNT(presenceAnomalie) / COUNT(DISTINCT idCompteur) > (SELECT(SELECT COUNT(presenceAnomalie) AS nbAnomaliesFortes\n",
    "                                                               FROM Comptage\n",
    "                                                               WHERE presenceAnomalie = 'FORTE') /\n",
    "                                                               (SELECT COUNT(idCompteur) AS nbCompteurs\n",
    "                                                               FROM Compteur) AS nbAnomaliesFortesMoyenneParQuartier);\n",
    "\"\"\"\n",
    "\n",
    "# Exécuter la requête\n",
    "df3 = pd.read_sql(requete3b, cnx)\n",
    "\n",
    "# Afficher le résultat\n",
    "print(\"Quartiers avec un nombre d'anomalies fortes par compteurs supérieur à la moyenne :\")\n",
    "df3.head()"
   ]
  },
  {
   "cell_type": "markdown",
   "metadata": {},
   "source": [
    "> Réponse question 3"
   ]
  },
  {
   "cell_type": "markdown",
   "metadata": {},
   "source": [
    "\n",
    "\n",
    "<span style=\"color:yellow;\">Il serait donc utile d'aller vérifier et réparer les compteurs dans les quartiers de Zola, Malakoff-Saint-Donatien et Pont Rousseau. Le centre ville possède certes beaucoup d'anomalies fortes, mais c'est un quartier qui possède aussi beaucoup de compteurs donc il n'y a pas de problème.</span>"
   ]
  },
  {
   "cell_type": "markdown",
   "metadata": {},
   "source": [
    "> Question 4 : Est ce que tout les quartiers possèdent des compteurs ?"
   ]
  },
  {
   "cell_type": "code",
   "execution_count": 9,
   "metadata": {},
   "outputs": [
    {
     "name": "stdout",
     "output_type": "stream",
     "text": [
      "                           nomQuartier  nbCompteurs\n",
      "0                         Centre Ville           22\n",
      "1            Malakoff - Saint-Donatien            9\n",
      "2                        Ile de Nantes            6\n",
      "3            Hauts Pav�s - Saint F�lix            4\n",
      "4                          Nantes Nord            2\n",
      "5                    Doulon - Botti�re            2\n",
      "6                           Nantes Sud            2\n",
      "7                        Pont Rousseau            2\n",
      "8                                Ragon            2\n",
      "9                  Dervalli�res - Zola            1\n",
      "10  Bellevue - Chantenay - Sainte Anne            0\n",
      "11                    Breil - Barberie            0\n",
      "12                        Nantes Erdre            0\n",
      "13                         Trentemoult            0\n",
      "14                      H�tel de Ville            0\n",
      "15                     Ch�teau de Rez�            0\n",
      "16                         La Houssais            0\n",
      "17                           Blordi�re            0\n"
     ]
    }
   ],
   "source": [
    "# requête 4 : nombre de compteurs par quartier\n",
    "requete4 = \"\"\"\n",
    "SELECT nomQuartier, COUNT(idCompteur) AS nbCompteurs\n",
    "FROM Quartier \n",
    "    LEFT JOIN Compteur ON Quartier.idQuartier = Compteur.leQuartier\n",
    "GROUP BY nomQuartier\n",
    "ORDER BY nbCompteurs DESC;\n",
    "\"\"\"\n",
    "\n",
    "# Exécuter la requête\n",
    "df4 = pd.read_sql(requete4, cnx)\n",
    "\n",
    "# Afficher le résultat\n",
    "print(df4)"
   ]
  },
  {
   "cell_type": "markdown",
   "metadata": {},
   "source": [
    "> Réponse à la question 4"
   ]
  },
  {
   "cell_type": "markdown",
   "metadata": {},
   "source": [
    "\n",
    "<span style=\"color:yellow;\">Non, beaucoup de quartier n'ont aucun compteur. Seulement 10 quartiers en possèdent. Le centre ville possède beaucoup de compteurs par rapport aux autres quartiers. Il serait donc intéressant de se demander si il faut rajouter des compteurs dans les quartiers qui n'en possèdent pas.</span>"
   ]
  },
  {
   "cell_type": "markdown",
   "metadata": {},
   "source": [
    "> Question 5 : Faut il rajouter des compteurs dans les quartiers qui n'en possèdent pas ?"
   ]
  },
  {
   "cell_type": "code",
   "execution_count": 68,
   "metadata": {},
   "outputs": [
    {
     "name": "stdout",
     "output_type": "stream",
     "text": [
      "Longueur totale des pistes cyclables pour tous les quartiers : \n"
     ]
    },
    {
     "data": {
      "text/html": [
       "<div>\n",
       "<style scoped>\n",
       "    .dataframe tbody tr th:only-of-type {\n",
       "        vertical-align: middle;\n",
       "    }\n",
       "\n",
       "    .dataframe tbody tr th {\n",
       "        vertical-align: top;\n",
       "    }\n",
       "\n",
       "    .dataframe thead th {\n",
       "        text-align: right;\n",
       "    }\n",
       "</style>\n",
       "<table border=\"1\" class=\"dataframe\">\n",
       "  <thead>\n",
       "    <tr style=\"text-align: right;\">\n",
       "      <th></th>\n",
       "      <th>longueurTotalPisteVelo</th>\n",
       "    </tr>\n",
       "  </thead>\n",
       "  <tbody>\n",
       "    <tr>\n",
       "      <th>0</th>\n",
       "      <td>329131.197754</td>\n",
       "    </tr>\n",
       "  </tbody>\n",
       "</table>\n",
       "</div>"
      ],
      "text/plain": [
       "   longueurTotalPisteVelo\n",
       "0           329131.197754"
      ]
     },
     "execution_count": 68,
     "metadata": {},
     "output_type": "execute_result"
    }
   ],
   "source": [
    "# requête 5a : longueur totale des pistes cyclables pour tous les quartiers\n",
    "requete5a = \"\"\"\n",
    "SELECT SUM(longueurPisteVelo) AS longueurTotalPisteVelo\n",
    "FROM Quartier;\n",
    "\"\"\"\n",
    "\n",
    "# Exécuter la requête\n",
    "df5a = pd.read_sql(requete5a, cnx)\n",
    "\n",
    "# Afficher le résultat\n",
    "print(\"Longueur totale des pistes cyclables pour tous les quartiers : \")\n",
    "df5a.head()\n"
   ]
  },
  {
   "cell_type": "code",
   "execution_count": 69,
   "metadata": {},
   "outputs": [
    {
     "name": "stdout",
     "output_type": "stream",
     "text": [
      "\n",
      "Longueur totale des pistes cyclables pour les quartiers sans compteur : \n"
     ]
    },
    {
     "data": {
      "text/html": [
       "<div>\n",
       "<style scoped>\n",
       "    .dataframe tbody tr th:only-of-type {\n",
       "        vertical-align: middle;\n",
       "    }\n",
       "\n",
       "    .dataframe tbody tr th {\n",
       "        vertical-align: top;\n",
       "    }\n",
       "\n",
       "    .dataframe thead th {\n",
       "        text-align: right;\n",
       "    }\n",
       "</style>\n",
       "<table border=\"1\" class=\"dataframe\">\n",
       "  <thead>\n",
       "    <tr style=\"text-align: right;\">\n",
       "      <th></th>\n",
       "      <th>longueurTotalPisteVelo</th>\n",
       "    </tr>\n",
       "  </thead>\n",
       "  <tbody>\n",
       "    <tr>\n",
       "      <th>0</th>\n",
       "      <td>104143.699219</td>\n",
       "    </tr>\n",
       "  </tbody>\n",
       "</table>\n",
       "</div>"
      ],
      "text/plain": [
       "   longueurTotalPisteVelo\n",
       "0           104143.699219"
      ]
     },
     "execution_count": 69,
     "metadata": {},
     "output_type": "execute_result"
    }
   ],
   "source": [
    "# requête 5b : longueur totale des pistes cyclables pour les quartiers sans compteur\n",
    "requete5b = \"\"\"\n",
    "SELECT SUM(longueurPisteVelo) AS longueurTotalPisteVelo\n",
    "FROM Quartier \n",
    "    LEFT JOIN Compteur ON Quartier.idQuartier = Compteur.leQuartier\n",
    "WHERE idCompteur IS NULL;\n",
    "\"\"\"\n",
    "\n",
    "# Exécuter la requête\n",
    "df5b = pd.read_sql(requete5b, cnx)\n",
    "\n",
    "# Afficher le résultat\n",
    "print()\n",
    "print(\"Longueur totale des pistes cyclables pour les quartiers sans compteur : \")\n",
    "df5b.head()"
   ]
  },
  {
   "cell_type": "code",
   "execution_count": 70,
   "metadata": {},
   "outputs": [
    {
     "name": "stdout",
     "output_type": "stream",
     "text": [
      "\n",
      "Ratio de la longueur totale des pistes cyclables pour les quartiers sans compteur : \n"
     ]
    },
    {
     "data": {
      "text/html": [
       "<div>\n",
       "<style scoped>\n",
       "    .dataframe tbody tr th:only-of-type {\n",
       "        vertical-align: middle;\n",
       "    }\n",
       "\n",
       "    .dataframe tbody tr th {\n",
       "        vertical-align: top;\n",
       "    }\n",
       "\n",
       "    .dataframe thead th {\n",
       "        text-align: right;\n",
       "    }\n",
       "</style>\n",
       "<table border=\"1\" class=\"dataframe\">\n",
       "  <thead>\n",
       "    <tr style=\"text-align: right;\">\n",
       "      <th></th>\n",
       "      <th>ratio</th>\n",
       "    </tr>\n",
       "  </thead>\n",
       "  <tbody>\n",
       "    <tr>\n",
       "      <th>0</th>\n",
       "      <td>31.642002</td>\n",
       "    </tr>\n",
       "  </tbody>\n",
       "</table>\n",
       "</div>"
      ],
      "text/plain": [
       "       ratio\n",
       "0  31.642002"
      ]
     },
     "execution_count": 70,
     "metadata": {},
     "output_type": "execute_result"
    }
   ],
   "source": [
    "# requête 4c : ratio de la longueur totale des pistes cyclables pour les quartiers sans compteur\n",
    "requete5c = \"\"\"\n",
    "SELECT (SELECT SUM(longueurPisteVelo) AS longueurTotalPisteVelo\n",
    "        FROM Quartier\n",
    "        LEFT JOIN Compteur ON Quartier.idQuartier = Compteur.leQuartier\n",
    "        WHERE idCompteur IS NULL) /\n",
    "       (SELECT SUM(longueurPisteVelo) AS longueurTotalPisteVelo\n",
    "        FROM Quartier) *100 AS ratio;\n",
    "\"\"\"\n",
    "\n",
    "# Exécuter la requête\n",
    "df5c = pd.read_sql(requete5c, cnx)\n",
    "\n",
    "# Afficher le résultat\n",
    "print()\n",
    "print(\"Ratio de la longueur totale des pistes cyclables pour les quartiers sans compteur : \")\n",
    "df5c.head()"
   ]
  },
  {
   "cell_type": "code",
   "execution_count": 73,
   "metadata": {},
   "outputs": [
    {
     "data": {
      "text/plain": [
       "(-1.1868428673146518,\n",
       " 1.1041352180055488,\n",
       " -1.1028095356293546,\n",
       " 1.1590187120607216)"
      ]
     },
     "execution_count": 73,
     "metadata": {},
     "output_type": "execute_result"
    },
    {
     "data": {
      "image/png": "[encoded data removed]",
      "text/plain": [
       "<Figure size 640x480 with 1 Axes>"
      ]
     },
     "metadata": {},
     "output_type": "display_data"
    }
   ],
   "source": [
    "# graphique diagramme circulaire\n",
    "labels = 'Longueur de piste cyclable sans compteur', 'Longueur de piste cyclable avec compteur'\n",
    "sizes = [31, 69]\n",
    "explode = (0.1, 0)\n",
    "\n",
    "fig1, ax1 = plt.subplots()\n",
    "ax1.pie(sizes, explode=explode, labels=labels, autopct='%1.1f%%', shadow=False, startangle=90)\n",
    "ax1.axis('equal')\n"
   ]
  },
  {
   "cell_type": "markdown",
   "metadata": {},
   "source": [
    "> Réponse à la question 5"
   ]
  },
  {
   "cell_type": "markdown",
   "metadata": {},
   "source": [
    "\n",
    "<span style=\"color:yellow;\">Il y a donc environ 31% de piste cyclable qui n'est pas comptabilisé par un capteur. Il serait donc intéressant de rajouter des compteurs dans les quartiers qui n'en possèdent pas. Il faudrait en priporité privilégier les plus longues pistes cyclables. Pour cela, voici une requête qui nous les montres.</span>"
   ]
  },
  {
   "cell_type": "code",
   "execution_count": 89,
   "metadata": {},
   "outputs": [
    {
     "name": "stdout",
     "output_type": "stream",
     "text": [
      "\n",
      "Longueur totale des pistes cyclables pour les quartiers sans compteur : \n",
      "                          nomQuartier  longueurTotalPisteVelo\n",
      "0                        Nantes Erdre            31816.199219\n",
      "1  Bellevue - Chantenay - Sainte Anne            22597.300781\n",
      "2                    Breil - Barberie            16718.199219\n",
      "3                         La Houssais             9288.900391\n",
      "4                         Trentemoult             7854.500000\n",
      "5                     Ch�teau de Rez�             6371.500000\n",
      "6                      H�tel de Ville             4808.799805\n",
      "7                           Blordi�re             4688.299805\n"
     ]
    }
   ],
   "source": [
    "# requête 5d : longueur des pistes cyclables pour chaque quartier sans compteur\n",
    "requete5d = \"\"\"\n",
    "SELECT nomQuartier, SUM(longueurPisteVelo) AS longueurTotalPisteVelo\n",
    "FROM Quartier\n",
    "    LEFT JOIN Compteur ON Quartier.idQuartier = Compteur.leQuartier\n",
    "WHERE idCompteur IS NULL\n",
    "GROUP BY nomQuartier\n",
    "ORDER BY longueurTotalPisteVelo DESC;\n",
    "\"\"\"\n",
    "\n",
    "# Exécuter la requête\n",
    "df5d = pd.read_sql(requete5d, cnx)\n",
    "\n",
    "# Afficher le résultat\n",
    "print()\n",
    "print(\"Longueur totale des pistes cyclables pour les quartiers sans compteur : \")\n",
    "print(df5d)"
   ]
  },
  {
   "cell_type": "markdown",
   "metadata": {},
   "source": [
    "<span style=\"color:yellow;\">Il faut donc rajouter des compteurs en priorité dans les quartiers de Nantes Erdre, Bellevue-Chantenay-Sainte Anne et Breil-Barberie.</span>"
   ]
  },
  {
   "cell_type": "markdown",
   "metadata": {},
   "source": [
    "> Question 6 : "
   ]
  }
 ],
 "metadata": {
  "kernelspec": {
   "display_name": "Python 3",
   "language": "python",
   "name": "python3"
  },
  "language_info": {
   "codemirror_mode": {
    "name": "ipython",
    "version": 3
   },
   "file_extension": ".py",
   "mimetype": "text/x-python",
   "name": "python",
   "nbconvert_exporter": "python",
   "pygments_lexer": "ipython3",
   "version": "3.11.3"
  },
  "orig_nbformat": 4
 },
 "nbformat": 4,
 "nbformat_minor": 2
}
